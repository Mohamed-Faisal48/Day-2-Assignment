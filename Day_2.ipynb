{
  "nbformat": 4,
  "nbformat_minor": 0,
  "metadata": {
    "colab": {
      "name": "Day 2.ipynb",
      "provenance": []
    },
    "kernelspec": {
      "name": "python3",
      "display_name": "Python 3"
    },
    "language_info": {
      "name": "python"
    }
  },
  "cells": [
    {
      "cell_type": "code",
      "metadata": {
        "colab": {
          "base_uri": "https://localhost:8080/"
        },
        "id": "hsn1TiiNkghc",
        "outputId": "a15ec1a6-dde5-4386-ce91-a0e3ccf603e0"
      },
      "source": [
        "import random\n",
        "number=int(input(\"Enter the maxavailabletickets:\"))\n",
        "participants=[]\n",
        "for i in range(number):\n",
        "  r=\"Enter the participants name -\"+ str(i+1)+\"-\"\n",
        "  name=input(r)\n",
        "  participants.append(name)\n",
        "print(participants)\n",
        "n=random.randint(0,number-1)\n",
        "print(\"Winner is\",participants[n])"
      ],
      "execution_count": 7,
      "outputs": [
        {
          "output_type": "stream",
          "text": [
            "Enter the maxavailabletickets4\n",
            "Enter the participants name -1-ram\n",
            "Enter the participants name -2-syed\n",
            "Enter the participants name -3-salem\n",
            "Enter the participants name -4-jervish\n",
            "['ram', 'syed', 'salem', 'jervish']\n",
            "Winner is ram\n"
          ],
          "name": "stdout"
        }
      ]
    }
  ]
}